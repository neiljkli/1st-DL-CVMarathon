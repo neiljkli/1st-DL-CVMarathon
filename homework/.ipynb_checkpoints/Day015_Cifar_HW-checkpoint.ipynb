{
 "cells": [
  {
   "cell_type": "markdown",
   "metadata": {},
   "source": [
    "## 『本次練習內容』\n",
    "#### 運用這幾天所學觀念搭建一個CNN分類器"
   ]
  },
  {
   "cell_type": "markdown",
   "metadata": {},
   "source": [
    "## 『本次練習目的』\n",
    "  #### 熟悉CNN分類器搭建步驟與原理\n",
    "  #### 學員們可以嘗試不同搭法，如使用不同的Maxpooling層，用GlobalAveragePooling取代Flatten等等"
   ]
  },
  {
   "cell_type": "code",
   "execution_count": 1,
   "metadata": {},
   "outputs": [
    {
     "name": "stderr",
     "output_type": "stream",
     "text": [
      "Using TensorFlow backend.\n"
     ]
    }
   ],
   "source": [
    "from keras.models import Sequential\n",
    "from keras.layers import Convolution2D\n",
    "from keras.layers import MaxPooling2D\n",
    "from keras.layers import Flatten\n",
    "from keras.layers import Dense\n",
    "from keras.layers import Dropout\n",
    "from keras.layers import BatchNormalization\n",
    "from keras.datasets import cifar10\n",
    "import numpy as np\n",
    "import tensorflow as tf\n",
    "from sklearn.preprocessing import OneHotEncoder\n"
   ]
  },
  {
   "cell_type": "code",
   "execution_count": 2,
   "metadata": {},
   "outputs": [
    {
     "name": "stdout",
     "output_type": "stream",
     "text": [
      "(50000, 32, 32, 3)\n"
     ]
    }
   ],
   "source": [
    "(x_train, y_train), (x_test, y_test) = cifar10.load_data()\n",
    "\n",
    "print(x_train.shape) #(50000, 32, 32, 3)\n",
    "\n",
    "## Normalize Data\n",
    "def normalize(X_train,X_test):\n",
    "        mean = np.mean(X_train,axis=(0,1,2,3))\n",
    "        std = np.std(X_train, axis=(0, 1, 2, 3))\n",
    "        X_train = (X_train-mean)/(std+1e-7)\n",
    "        X_test = (X_test-mean)/(std+1e-7) \n",
    "        return X_train, X_test,mean,std\n",
    "    \n",
    "    \n",
    "## Normalize Training and Testset    \n",
    "x_train, x_test,mean_train,std_train = normalize(x_train, x_test) "
   ]
  },
  {
   "cell_type": "code",
   "execution_count": 6,
   "metadata": {},
   "outputs": [
    {
     "name": "stderr",
     "output_type": "stream",
     "text": [
      "C:\\ProgramData\\Anaconda3\\lib\\site-packages\\sklearn\\preprocessing\\_encoders.py:415: FutureWarning: The handling of integer data will change in version 0.22. Currently, the categories are determined based on the range [0, max(values)], while in the future they will be determined based on the unique values.\n",
      "If you want the future behaviour and silence this warning, you can specify \"categories='auto'\".\n",
      "In case you used a LabelEncoder before this OneHotEncoder to convert the categories to integers, then you can now use the OneHotEncoder directly.\n",
      "  warnings.warn(msg, FutureWarning)\n"
     ]
    }
   ],
   "source": [
    "## OneHot Label 由(None, 1)-(None, 10)\n",
    "## ex. label=2,變成[0,0,1,0,0,0,0,0,0,0]\n",
    "one_hot=OneHotEncoder()\n",
    "y_train=one_hot.fit_transform(y_train).toarray()\n",
    "y_test=one_hot.transform(y_test).toarray()"
   ]
  },
  {
   "cell_type": "code",
   "execution_count": 7,
   "metadata": {},
   "outputs": [
    {
     "name": "stdout",
     "output_type": "stream",
     "text": [
      "WARNING:tensorflow:From C:\\ProgramData\\Anaconda3\\lib\\site-packages\\tensorflow\\python\\ops\\math_ops.py:3066: to_int32 (from tensorflow.python.ops.math_ops) is deprecated and will be removed in a future version.\n",
      "Instructions for updating:\n",
      "Use tf.cast instead.\n"
     ]
    },
    {
     "name": "stderr",
     "output_type": "stream",
     "text": [
      "C:\\ProgramData\\Anaconda3\\lib\\site-packages\\ipykernel_launcher.py:19: UserWarning: Update your `Dense` call to the Keras 2 API: `Dense(activation=\"relu\", units=128)`\n",
      "C:\\ProgramData\\Anaconda3\\lib\\site-packages\\ipykernel_launcher.py:22: UserWarning: Update your `Dense` call to the Keras 2 API: `Dense(activation=\"softmax\", units=10)`\n"
     ]
    },
    {
     "name": "stdout",
     "output_type": "stream",
     "text": [
      "Epoch 1/30\n",
      "50000/50000 [==============================] - 365s 7ms/step - loss: 1.4986 - accuracy: 0.4855\n",
      "Epoch 2/30\n",
      "50000/50000 [==============================] - 366s 7ms/step - loss: 0.9828 - accuracy: 0.6512\n",
      "Epoch 3/30\n",
      "50000/50000 [==============================] - 366s 7ms/step - loss: 0.8099 - accuracy: 0.7149\n",
      "Epoch 4/30\n",
      "50000/50000 [==============================] - 366s 7ms/step - loss: 0.6753 - accuracy: 0.7649\n",
      "Epoch 5/30\n",
      "50000/50000 [==============================] - 365s 7ms/step - loss: 0.5446 - accuracy: 0.8105\n",
      "Epoch 6/30\n",
      "50000/50000 [==============================] - 365s 7ms/step - loss: 0.4265 - accuracy: 0.8521\n",
      "Epoch 7/30\n",
      "50000/50000 [==============================] - 365s 7ms/step - loss: 0.3201 - accuracy: 0.8902\n",
      "Epoch 8/30\n",
      "50000/50000 [==============================] - 364s 7ms/step - loss: 0.2361 - accuracy: 0.9199\n",
      "Epoch 9/30\n",
      "50000/50000 [==============================] - 366s 7ms/step - loss: 0.1805 - accuracy: 0.9384\n",
      "Epoch 10/30\n",
      "50000/50000 [==============================] - 364s 7ms/step - loss: 0.1579 - accuracy: 0.9446\n",
      "Epoch 11/30\n",
      "50000/50000 [==============================] - 359s 7ms/step - loss: 0.1286 - accuracy: 0.9562\n",
      "Epoch 12/30\n",
      "50000/50000 [==============================] - 356s 7ms/step - loss: 0.1137 - accuracy: 0.9608\n",
      "Epoch 13/30\n",
      "50000/50000 [==============================] - 356s 7ms/step - loss: 0.1075 - accuracy: 0.9637\n",
      "Epoch 14/30\n",
      "50000/50000 [==============================] - 357s 7ms/step - loss: 0.1085 - accuracy: 0.9634\n",
      "Epoch 15/30\n",
      "50000/50000 [==============================] - 356s 7ms/step - loss: 0.0847 - accuracy: 0.9705\n",
      "Epoch 16/30\n",
      "50000/50000 [==============================] - 357s 7ms/step - loss: 0.0838 - accuracy: 0.9709\n",
      "Epoch 17/30\n",
      "50000/50000 [==============================] - 357s 7ms/step - loss: 0.0745 - accuracy: 0.9747\n",
      "Epoch 18/30\n",
      "50000/50000 [==============================] - 356s 7ms/step - loss: 0.0723 - accuracy: 0.9757\n",
      "Epoch 19/30\n",
      "50000/50000 [==============================] - 358s 7ms/step - loss: 0.0777 - accuracy: 0.9741\n",
      "Epoch 20/30\n",
      "50000/50000 [==============================] - 355s 7ms/step - loss: 0.0713 - accuracy: 0.9761\n",
      "Epoch 21/30\n",
      "50000/50000 [==============================] - 357s 7ms/step - loss: 0.0690 - accuracy: 0.9768\n",
      "Epoch 22/30\n",
      "50000/50000 [==============================] - 357s 7ms/step - loss: 0.0561 - accuracy: 0.9809\n",
      "Epoch 23/30\n",
      "50000/50000 [==============================] - 356s 7ms/step - loss: 0.0538 - accuracy: 0.9828\n",
      "Epoch 24/30\n",
      "50000/50000 [==============================] - 357s 7ms/step - loss: 0.0584 - accuracy: 0.9802\n",
      "Epoch 25/30\n",
      "50000/50000 [==============================] - 357s 7ms/step - loss: 0.0515 - accuracy: 0.9834\n",
      "Epoch 26/30\n",
      "50000/50000 [==============================] - 357s 7ms/step - loss: 0.0546 - accuracy: 0.9820\n",
      "Epoch 27/30\n",
      "50000/50000 [==============================] - 357s 7ms/step - loss: 0.0555 - accuracy: 0.9818\n",
      "Epoch 28/30\n",
      "50000/50000 [==============================] - 357s 7ms/step - loss: 0.0398 - accuracy: 0.9864\n",
      "Epoch 29/30\n",
      "50000/50000 [==============================] - 357s 7ms/step - loss: 0.0499 - accuracy: 0.9834\n",
      "Epoch 30/30\n",
      "50000/50000 [==============================] - 357s 7ms/step - loss: 0.0487 - accuracy: 0.9842\n"
     ]
    },
    {
     "data": {
      "text/plain": [
       "<keras.callbacks.callbacks.History at 0x1fbb25e1f60>"
      ]
     },
     "execution_count": 7,
     "metadata": {},
     "output_type": "execute_result"
    }
   ],
   "source": [
    "\n",
    "classifier=Sequential()\n",
    "\n",
    "#卷積組合\n",
    "classifier.add(Convolution2D(32,kernel_size=(3, 3), padding='same',input_shape=(32,32,3),activation='relu'))#32,3,3,input_shape=(32,32,3),activation='relu''\n",
    "classifier.add(BatchNormalization())\n",
    "\n",
    "'''自己決定MaxPooling2D放在哪裡'''\n",
    "#classifier.add(MaxPooling2D(pool_size=(2,2)))\n",
    "\n",
    "#卷積組合\n",
    "classifier.add(Convolution2D(64,kernel_size=(3, 3), padding='same',activation='relu'))\n",
    "classifier.add(BatchNormalization())\n",
    "\n",
    "classifier.add(MaxPooling2D(pool_size=(2,2)))\n",
    "#flatten\n",
    "classifier.add(Flatten())\n",
    "\n",
    "#FC\n",
    "classifier.add(Dense(output_dim=128,activation='relu')) #output_dim=100,activation=relu\n",
    "\n",
    "#輸出\n",
    "classifier.add(Dense(output_dim=10,activation='softmax'))\n",
    "\n",
    "#超過兩個就要選categorical_crossentrophy\n",
    "classifier.compile(optimizer = 'adam', loss = 'categorical_crossentropy', metrics = ['accuracy'])\n",
    "classifier.fit(x_train,y_train,batch_size=100,epochs=30)"
   ]
  },
  {
   "cell_type": "markdown",
   "metadata": {},
   "source": [
    "## 預測新圖片，輸入影像前處理要與訓練時相同\n",
    "#### ((X-mean)/(std+1e-7) ):這裡的mean跟std是訓練集的\n",
    "## 維度如下方示範"
   ]
  },
  {
   "cell_type": "code",
   "execution_count": 8,
   "metadata": {},
   "outputs": [
    {
     "data": {
      "text/plain": [
       "array([[9.9992931e-01, 3.3330606e-20, 3.4272654e-17, 6.6045410e-05,\n",
       "        4.5366664e-06, 8.7741817e-27, 1.0966382e-14, 1.2305571e-13,\n",
       "        7.6919775e-08, 1.2795003e-22]], dtype=float32)"
      ]
     },
     "execution_count": 8,
     "metadata": {},
     "output_type": "execute_result"
    }
   ],
   "source": [
    "input_example=(np.zeros(shape=(1,32,32,3))-mean_train)/(std_train+1e-7) \n",
    "classifier.predict(input_example)"
   ]
  },
  {
   "cell_type": "code",
   "execution_count": 6,
   "metadata": {},
   "outputs": [
    {
     "name": "stdout",
     "output_type": "stream",
     "text": [
      "[name: \"/device:CPU:0\"\n",
      "device_type: \"CPU\"\n",
      "memory_limit: 268435456\n",
      "locality {\n",
      "}\n",
      "incarnation: 5053614244226168914\n",
      "]\n"
     ]
    }
   ],
   "source": [
    "#from tensorflow.python.client import device_lib\n",
    "#print(device_lib.list_local_devices())"
   ]
  },
  {
   "cell_type": "code",
   "execution_count": null,
   "metadata": {},
   "outputs": [],
   "source": []
  }
 ],
 "metadata": {
  "kernelspec": {
   "display_name": "Python 3",
   "language": "python",
   "name": "python3"
  },
  "language_info": {
   "codemirror_mode": {
    "name": "ipython",
    "version": 3
   },
   "file_extension": ".py",
   "mimetype": "text/x-python",
   "name": "python",
   "nbconvert_exporter": "python",
   "pygments_lexer": "ipython3",
   "version": "3.7.0"
  }
 },
 "nbformat": 4,
 "nbformat_minor": 2
}
